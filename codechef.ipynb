{
 "cells": [
  {
   "cell_type": "code",
   "execution_count": null,
   "metadata": {},
   "outputs": [],
   "source": [
    "import math\n",
    "import matplotlib.pyplot as plt\n",
    "def make_packet(x0,k0,sigma):\n",
    "    X=[]\n",
    "    Y=[]\n",
    "    for i in range(1,101):\n",
    "        X.append(i)\n",
    "        y= ((1/2*3.14*(sigma**2))**0.25)*(math.exp(-(i-x0)**2/4*sigma**2))*(math.exp(-1**0.5*k0*i))\n",
    "        Y.append(y**2)\n",
    "    plt.plot(X,Y)\n",
    "def(20,2,2)"
   ]
  },
  {
   "cell_type": "code",
   "execution_count": 1,
   "metadata": {},
   "outputs": [
    {
     "name": "stdout",
     "output_type": "stream",
     "text": [
      "3\n",
      "5 4\n",
      "10 2 3 4 5\n",
      "7\n",
      "7 15\n",
      "1 2 3 4 5 6 7\n",
      "0\n",
      "5 5\n",
      "10 9 8 7 6\n",
      "15\n"
     ]
    }
   ],
   "source": [
    "t=int(input())\n",
    "for _ in range(t):\n",
    "    n,k = map(int,input().split())\n",
    "    p = list(map(int,input().split()))\n",
    "    s = sum(p)\n",
    "    r = []\n",
    "    for i in range(n):\n",
    "        if(p[i]<=k):\n",
    "            r.append(p[i])\n",
    "        else:\n",
    "            r.append(k)\n",
    "    s1=sum(r)\n",
    "    print(s-s1)"
   ]
  },
  {
   "cell_type": "code",
   "execution_count": null,
   "metadata": {},
   "outputs": [],
   "source": []
  },
  {
   "cell_type": "code",
   "execution_count": 1,
   "metadata": {},
   "outputs": [
    {
     "name": "stdout",
     "output_type": "stream",
     "text": [
      "3\n",
      "xy\n",
      "1\n",
      "xyxxy\n",
      "2\n",
      "yy\n",
      "0\n"
     ]
    }
   ],
   "source": [
    "t = int(input())\n",
    "for _ in range(t):\n",
    "    s = input()\n",
    "    c=0\n",
    "    for i in range(0,len(s)):\n",
    "        if((s[i]=='x' and s[i+1]=='y')or(s[i]=='y'and[i+1]=='x')):\n",
    "            c+=1\n",
    "    print(c)"
   ]
  },
  {
   "cell_type": "code",
   "execution_count": 10,
   "metadata": {},
   "outputs": [
    {
     "name": "stdout",
     "output_type": "stream",
     "text": [
      "1\n",
      "3\n",
      "5 10 15\n",
      "YES\n"
     ]
    }
   ],
   "source": [
    "t = int(input())\n",
    "for _ in range(t):\n",
    "    n=int(input())\n",
    "    a=list(map(int,input().split()))\n",
    "    c=0\n",
    "    f=0\n",
    "    for i in range(n):\n",
    "        #print(c)\n",
    "        if(a[i]-5>c):\n",
    "            f=0\n",
    "            break\n",
    "        else:\n",
    "            c+=5\n",
    "            f=1\n",
    "    c=0\n",
    "    #print(c)\n",
    "    if(f==1):\n",
    "        print(\"YES\")\n",
    "    else:\n",
    "        print(\"NO\")"
   ]
  },
  {
   "cell_type": "code",
   "execution_count": null,
   "metadata": {},
   "outputs": [],
   "source": []
  }
 ],
 "metadata": {
  "kernelspec": {
   "display_name": "Python 3",
   "language": "python",
   "name": "python3"
  },
  "language_info": {
   "codemirror_mode": {
    "name": "ipython",
    "version": 3
   },
   "file_extension": ".py",
   "mimetype": "text/x-python",
   "name": "python",
   "nbconvert_exporter": "python",
   "pygments_lexer": "ipython3",
   "version": "3.6.9"
  }
 },
 "nbformat": 4,
 "nbformat_minor": 2
}
